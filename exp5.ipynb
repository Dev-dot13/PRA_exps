{
 "cells": [
  {
   "cell_type": "code",
   "execution_count": 3,
   "id": "7ca27fba-0d9b-4c87-8160-691ac6cdf818",
   "metadata": {},
   "outputs": [
    {
     "name": "stdout",
     "output_type": "stream",
     "text": [
      "              precision    recall  f1-score   support\n",
      "\n",
      "      normal       0.97      0.91      0.94     97278\n",
      "      attack       0.10      0.29      0.14      3377\n",
      "\n",
      "    accuracy                           0.89    100655\n",
      "   macro avg       0.53      0.60      0.54    100655\n",
      "weighted avg       0.94      0.89      0.91    100655\n",
      "\n"
     ]
    }
   ],
   "source": [
    "#Anomaly Detection using IsolationForest\n",
    "from sklearn.datasets import fetch_kddcup99\n",
    "from sklearn.ensemble import IsolationForest\n",
    "from sklearn.preprocessing import LabelEncoder\n",
    "from sklearn.metrics import classification_report\n",
    "import pandas as pd\n",
    "\n",
    "# Load data (subset='SA' has normal + smurf attacks)\n",
    "data = fetch_kddcup99(subset='SA', shuffle=True, percent10=True)\n",
    "x_raw, y_raw = data.data, data.target\n",
    "\n",
    "# Convert to DataFrame for easier preprocessing\n",
    "x_df = pd.DataFrame(x_raw)\n",
    "y = pd.Series(y_raw).astype(str)\n",
    "\n",
    "# Encode bytes and categorical columns to numeric\n",
    "for col in x_df.columns:\n",
    "    if x_df[col].dtype == object:\n",
    "        x_df[col] = x_df[col].astype(str)\n",
    "        x_df[col] = LabelEncoder().fit_transform(x_df[col])\n",
    "\n",
    "# Encode labels: 'normal.' → 0, others → 1 (attack)\n",
    "y = y.apply(lambda val: 0 if val == 'normal.' else 1)\n",
    "\n",
    "# Train Isolation Forest\n",
    "model = IsolationForest(contamination=0.1, random_state=42)\n",
    "model.fit(x_df)\n",
    "\n",
    "# Predict (-1 = anomaly → 1, 1 = normal → 0)\n",
    "y_pred = (model.predict(x_df) == -1).astype(int)\n",
    "\n",
    "# Evaluate\n",
    "print(classification_report(y, y_pred, target_names=['normal', 'attack']))"
   ]
  },
  {
   "cell_type": "code",
   "execution_count": null,
   "id": "9dc61b77-c0e4-4b6c-9448-00cdaa7ec80f",
   "metadata": {},
   "outputs": [],
   "source": []
  }
 ],
 "metadata": {
  "kernelspec": {
   "display_name": "Python 3 (ipykernel)",
   "language": "python",
   "name": "python3"
  },
  "language_info": {
   "codemirror_mode": {
    "name": "ipython",
    "version": 3
   },
   "file_extension": ".py",
   "mimetype": "text/x-python",
   "name": "python",
   "nbconvert_exporter": "python",
   "pygments_lexer": "ipython3",
   "version": "3.12.5"
  }
 },
 "nbformat": 4,
 "nbformat_minor": 5
}
