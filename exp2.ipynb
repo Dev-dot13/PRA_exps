{
 "cells": [
  {
   "cell_type": "code",
   "execution_count": 3,
   "id": "3fe90930-40ed-4c32-8242-6461e91c5ba9",
   "metadata": {},
   "outputs": [
    {
     "name": "stdout",
     "output_type": "stream",
     "text": [
      "              precision    recall  f1-score   support\n",
      "\n",
      "           0       0.88      0.72      0.79       198\n",
      "           1       0.86      0.79      0.82       245\n",
      "           2       0.88      0.83      0.85       242\n",
      "           3       0.66      0.86      0.75       238\n",
      "           4       0.95      0.84      0.89       250\n",
      "           5       0.96      0.80      0.87       260\n",
      "           6       0.96      0.66      0.78       241\n",
      "           7       0.89      0.93      0.91       244\n",
      "           8       0.91      0.95      0.93       219\n",
      "           9       0.96      0.94      0.95       261\n",
      "          10       0.90      0.98      0.94       245\n",
      "          11       0.78      0.98      0.87       251\n",
      "          12       0.92      0.80      0.86       249\n",
      "          13       0.97      0.88      0.92       249\n",
      "          14       0.88      0.98      0.93       240\n",
      "          15       0.49      0.99      0.66       245\n",
      "          16       0.78      0.96      0.86       230\n",
      "          17       0.93      0.97      0.95       234\n",
      "          18       1.00      0.57      0.73       207\n",
      "          19       1.00      0.16      0.28       164\n",
      "\n",
      "    accuracy                           0.84      4712\n",
      "   macro avg       0.88      0.83      0.83      4712\n",
      "weighted avg       0.88      0.84      0.84      4712\n",
      "\n"
     ]
    }
   ],
   "source": [
    "#Pattern recog. (TfidfVectorizer & MultinomialNB) on Newsgroup dataset\n",
    "from sklearn.datasets import fetch_20newsgroups\n",
    "from sklearn.feature_extraction.text import TfidfVectorizer\n",
    "from sklearn.naive_bayes import MultinomialNB\n",
    "from sklearn.pipeline import make_pipeline\n",
    "from sklearn.metrics import classification_report\n",
    "from sklearn.preprocessing import StandardScaler\n",
    "from sklearn.model_selection import train_test_split\n",
    "\n",
    "# Load dataset\n",
    "data = fetch_20newsgroups(subset='all')\n",
    "x, y = data.data, data.target\n",
    "\n",
    "x_train, x_test, y_train, y_test = train_test_split(x, y, test_size=0.25, random_state=42)\n",
    "\n",
    "# Create pipeline: TF-IDF + Classifier\n",
    "model = make_pipeline(TfidfVectorizer(), MultinomialNB())\n",
    "\n",
    "# Train model\n",
    "model.fit(x_train, y_train)\n",
    "\n",
    "# Predict and evaluate\n",
    "y_pred = model.predict(x_test)\n",
    "print(classification_report(y_test, y_pred))\n"
   ]
  },
  {
   "cell_type": "code",
   "execution_count": null,
   "id": "4fb81467-a3d3-4a75-ab46-2f18d4acbcfd",
   "metadata": {},
   "outputs": [],
   "source": []
  }
 ],
 "metadata": {
  "kernelspec": {
   "display_name": "Python 3 (ipykernel)",
   "language": "python",
   "name": "python3"
  },
  "language_info": {
   "codemirror_mode": {
    "name": "ipython",
    "version": 3
   },
   "file_extension": ".py",
   "mimetype": "text/x-python",
   "name": "python",
   "nbconvert_exporter": "python",
   "pygments_lexer": "ipython3",
   "version": "3.12.5"
  }
 },
 "nbformat": 4,
 "nbformat_minor": 5
}
