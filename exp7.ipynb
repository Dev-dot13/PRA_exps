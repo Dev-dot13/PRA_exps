{
 "cells": [
  {
   "cell_type": "code",
   "execution_count": 10,
   "id": "7da423de-92f5-49ec-bde4-fde56c471871",
   "metadata": {},
   "outputs": [],
   "source": [
    "# Max. Likelihood Est.(Discrete-MultinomialHMM) for DNA\n",
    "import numpy as np\n",
    "from hmmlearn import hmm\n",
    "from collections import Counter"
   ]
  },
  {
   "cell_type": "code",
   "execution_count": 11,
   "id": "6531c2e3-abdf-4559-afd3-c45018d2fd82",
   "metadata": {},
   "outputs": [],
   "source": [
    "neucleotide_mapping = {'A':0, 'C':1, 'G':2, 'T':3}\n",
    "train_sequences = [\"ACGTAGCT\", \"CGTAGCTA\", \"GATCGTAC\"]\n",
    "train_states = [\"GGNNGGNN\", \"NNGGNNGG\", \"GGNNGGNN\"]"
   ]
  },
  {
   "cell_type": "code",
   "execution_count": 12,
   "id": "5a6e614f-ef8a-40df-b745-eb3d5cf0ce4e",
   "metadata": {},
   "outputs": [],
   "source": [
    "observed_sequences = [np.array([neucleotide_mapping[nuc] for nuc in seq]).reshape(-1,1) for seq in train_sequences]\n",
    "state_mapping = {'G':0, 'N':1}\n",
    "state_sequences = [np.array([state_mapping[state] for state in states]) for states in train_states]"
   ]
  },
  {
   "cell_type": "code",
   "execution_count": 13,
   "id": "47cd3744-10c2-4dd9-9281-026129842103",
   "metadata": {},
   "outputs": [
    {
     "name": "stderr",
     "output_type": "stream",
     "text": [
      "MultinomialHMM has undergone major changes. The previous version was implementing a CategoricalHMM (a special case of MultinomialHMM). This new implementation follows the standard definition for a Multinomial distribution (e.g. as in https://en.wikipedia.org/wiki/Multinomial_distribution). See these issues for details:\n",
      "https://github.com/hmmlearn/hmmlearn/issues/335\n",
      "https://github.com/hmmlearn/hmmlearn/issues/340\n"
     ]
    }
   ],
   "source": [
    "model = hmm.MultinomialHMM(n_components=2, n_iter=100)"
   ]
  },
  {
   "cell_type": "code",
   "execution_count": 16,
   "id": "33394048-609b-41cc-b598-60b9af38d2b7",
   "metadata": {},
   "outputs": [
    {
     "name": "stderr",
     "output_type": "stream",
     "text": [
      "Even though the 'startprob_' attribute is set, it will be overwritten during initialization because 'init_params' contains 's'\n",
      "Even though the 'transmat_' attribute is set, it will be overwritten during initialization because 'init_params' contains 't'\n"
     ]
    },
    {
     "name": "stdout",
     "output_type": "stream",
     "text": [
      "\n",
      "Test DNA Sequence:  GTACGTA\n",
      "Predicted Gene Regions:  GNGNGNG\n"
     ]
    }
   ],
   "source": [
    "x_train = np.concatenate(observed_sequences)\n",
    "lengths = [len(seq) for seq in observed_sequences]\n",
    "\n",
    "model.fit(x_train, lengths)\n",
    "\n",
    "test_sequence = \"GTACGTA\"\n",
    "test_observed = np.array([neucleotide_mapping[nuc] for nuc in test_sequences]).reshape(-1,1)\n",
    "\n",
    "predicted_states = model.predict(test_observed)\n",
    "\n",
    "predicted_labels = ''.join(['G' if s == 0 else 'N' for s in predicted_states])\n",
    "\n",
    "print(\"\\nTest DNA Sequence: \", test_sequence)\n",
    "print(\"Predicted Gene Regions: \", predicted_labels)"
   ]
  },
  {
   "cell_type": "code",
   "execution_count": null,
   "id": "9599806c-2cec-4af1-ad39-ecb73f3457fa",
   "metadata": {},
   "outputs": [],
   "source": []
  }
 ],
 "metadata": {
  "kernelspec": {
   "display_name": "Python 3 (ipykernel)",
   "language": "python",
   "name": "python3"
  },
  "language_info": {
   "codemirror_mode": {
    "name": "ipython",
    "version": 3
   },
   "file_extension": ".py",
   "mimetype": "text/x-python",
   "name": "python",
   "nbconvert_exporter": "python",
   "pygments_lexer": "ipython3",
   "version": "3.12.5"
  }
 },
 "nbformat": 4,
 "nbformat_minor": 5
}
