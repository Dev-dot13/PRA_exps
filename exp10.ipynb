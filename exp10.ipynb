{
 "cells": [
  {
   "cell_type": "code",
   "execution_count": 1,
   "id": "1216fd4f-6688-49bb-bfeb-d82af83e7cb7",
   "metadata": {},
   "outputs": [
    {
     "name": "stdout",
     "output_type": "stream",
     "text": [
      "🔎 Accuracy for different values of K:\n",
      "K = 1: Accuracy = 1.00\n",
      "K = 2: Accuracy = 1.00\n",
      "K = 3: Accuracy = 1.00\n",
      "K = 4: Accuracy = 1.00\n",
      "K = 5: Accuracy = 1.00\n",
      "K = 6: Accuracy = 1.00\n",
      "K = 7: Accuracy = 0.97\n",
      "K = 8: Accuracy = 1.00\n",
      "K = 9: Accuracy = 1.00\n",
      "K = 10: Accuracy = 1.00\n"
     ]
    }
   ],
   "source": [
    "#KNN model accuracy on iris data\n",
    "from sklearn.datasets import load_iris\n",
    "from sklearn.model_selection import train_test_split\n",
    "from sklearn.neighbors import KNeighborsClassifier\n",
    "from sklearn.metrics import accuracy_score\n",
    "\n",
    "# Load Iris dataset\n",
    "data = load_iris()\n",
    "X = data.data  # features: sepal length, sepal width, petal length, petal width\n",
    "y = data.target  # class labels: Setosa, Versicolor, Virginica\n",
    "\n",
    "# Split data\n",
    "X_train, X_test, y_train, y_test = train_test_split(X, y, test_size=0.2, random_state=42)\n",
    "\n",
    "# Try different values of K\n",
    "print(\"🔎 Accuracy for different values of K:\")\n",
    "for k in range(1, 11):\n",
    "    knn = KNeighborsClassifier(n_neighbors=k)\n",
    "    knn.fit(X_train, y_train)\n",
    "    y_pred = knn.predict(X_test)\n",
    "    acc = accuracy_score(y_test, y_pred)\n",
    "    print(f\"K = {k}: Accuracy = {acc:.2f}\")"
   ]
  },
  {
   "cell_type": "code",
   "execution_count": null,
   "id": "cfdfa415-c98d-4c23-9bf2-e47ffd318efd",
   "metadata": {},
   "outputs": [],
   "source": []
  }
 ],
 "metadata": {
  "kernelspec": {
   "display_name": "Python 3 (ipykernel)",
   "language": "python",
   "name": "python3"
  },
  "language_info": {
   "codemirror_mode": {
    "name": "ipython",
    "version": 3
   },
   "file_extension": ".py",
   "mimetype": "text/x-python",
   "name": "python",
   "nbconvert_exporter": "python",
   "pygments_lexer": "ipython3",
   "version": "3.12.5"
  }
 },
 "nbformat": 4,
 "nbformat_minor": 5
}
